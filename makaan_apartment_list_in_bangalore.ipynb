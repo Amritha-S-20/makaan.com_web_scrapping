{
  "nbformat": 4,
  "nbformat_minor": 0,
  "metadata": {
    "colab": {
      "name": "makaan_apartment_list_in_bangalore.ipynb",
      "provenance": [],
      "collapsed_sections": [],
      "authorship_tag": "ABX9TyPJNBhZBDiCLP7pLTRhai+W",
      "include_colab_link": true
    },
    "kernelspec": {
      "name": "python3",
      "display_name": "Python 3"
    },
    "language_info": {
      "name": "python"
    }
  },
  "cells": [
    {
      "cell_type": "markdown",
      "metadata": {
        "id": "view-in-github",
        "colab_type": "text"
      },
      "source": [
        "<a href=\"https://colab.research.google.com/github/Amritha-S-20/makaan.com_web_scrapping/blob/main/makaan_apartment_list_in_bangalore.ipynb\" target=\"_parent\"><img src=\"https://colab.research.google.com/assets/colab-badge.svg\" alt=\"Open In Colab\"/></a>"
      ]
    },
    {
      "cell_type": "markdown",
      "metadata": {
        "id": "drXolShBKBoE"
      },
      "source": [
        "**This is my first web scrapping project**\n"
      ]
    },
    {
      "cell_type": "code",
      "metadata": {
        "id": "dkzfFsUfM-7I"
      },
      "source": [
        " #WEB SCRAPPING FROM MAKAAN.COM TO GET THE APARTMENT DETAILS IN THE LOCATION BANGALORE      "
      ],
      "execution_count": null,
      "outputs": []
    },
    {
      "cell_type": "code",
      "metadata": {
        "id": "Dtvj3bUbSJz-"
      },
      "source": [
        "#importing all the packages needed for this web scrapping project\n",
        "import requests\n",
        "from bs4 import BeautifulSoup\n",
        "import pandas as pd\n",
        "import time\n",
        "from IPython.display import clear_output"
      ],
      "execution_count": null,
      "outputs": []
    },
    {
      "cell_type": "code",
      "metadata": {
        "id": "tj9nAwQyShq1"
      },
      "source": [
        "base_url='https://www.makaan.com/bangalore-residential-property/buy-property-in-bangalore-city?page='"
      ],
      "execution_count": null,
      "outputs": []
    },
    {
      "cell_type": "code",
      "metadata": {
        "id": "X0VjiYXJS0Py",
        "colab": {
          "base_uri": "https://localhost:8080/"
        },
        "outputId": "55ed98de-ea39-476f-f413-7b9962297d29"
      },
      "source": [
        "owner_info=[]                    #list for storing owner details from 50 pages\n",
        "no_bhk_info=[]                   #list for storing the details of no. of bhks in the apartments\n",
        "area_in_sqft_info=[]             #lsit for storing the details of total area of the apartments\n",
        "location_info=[]                 #list for storing the details of location info\n",
        "construction_info=[]             #list for storing the details of construction information\n",
        "total_price_info=[]              #list for storing the details of total price\n",
        "price_per_sq_ft_info=[]          #list for storing the details of price per square feet\n",
        "\n",
        "for i in range(1,51):\n",
        "\n",
        "  print(f'Scrapping value from {i}th page')   #this is used to identify if any error occur at any particular page\n",
        "  clear_output(wait=True)\n",
        "\n",
        "  time.sleep(2)\n",
        "   \n",
        "  url=base_url+str(i)+'&_=1624508969942'   #identified pattern of the url for 50 pages\n",
        "  req=requests.get(url)                    #sending the request to the makaan.com\n",
        "  soup=BeautifulSoup(req.text,'html')      #creating soup object\n",
        "\n",
        "  #storing the owner details to the list\n",
        "  o=soup.findAll('span',attrs={'class' : 'seller-type'})\n",
        "  for i in o:\n",
        "    owner_info.append(i.text)       \n",
        "\n",
        "  #storing bhk details\n",
        "  b=soup.findAll('div',attrs = {'class':'title-line'})\n",
        "  for j in b:\n",
        "    no_bhk_info.append(j.strong.span.text.strip())\n",
        "  \n",
        "  #storing total area details\n",
        "  area=soup.findAll('td', attrs={'class':'size'})\n",
        "  for k in area:\n",
        "    area_in_sqft_info.append(k.text)\n",
        "\n",
        "  #storing  location details\n",
        "  loc=soup.findAll('span',attrs={'class':'locName'})\n",
        "  for i in loc:\n",
        "    location_info.append(i.span.text)\n",
        "  \n",
        "  #storing construction details\n",
        "  constr=soup.findAll('tr',attrs={'class':'hcol w44'})\n",
        "  for j in constr:\n",
        "    construction_info.append(j.td.text)\n",
        "\n",
        "  #storing total price details\n",
        "  crprice=soup.findAll('div',attrs={'data-type':'price-link'})\n",
        "  for k in crprice:\n",
        "    total_price_info.append(k.text.strip())\n",
        "\n",
        "  #storing price per square feet details\n",
        "  pricesqft=soup.findAll('td',attrs={'class':'lbl rate'})\n",
        "  for i in pricesqft:\n",
        "    price_per_sq_ft_info.append(i.text)\n"
      ],
      "execution_count": null,
      "outputs": [
        {
          "output_type": "stream",
          "text": [
            "Scrapping value from 50th page\n"
          ],
          "name": "stdout"
        }
      ]
    },
    {
      "cell_type": "code",
      "metadata": {
        "id": "2IKKO166ayyD",
        "colab": {
          "base_uri": "https://localhost:8080/"
        },
        "outputId": "98c0bb05-d122-48d4-9d33-aec9798bec32"
      },
      "source": [
        "#this is just used to check the length of all above created lists are equal so that there will be no issue to convert it to data frame\n",
        "len(price_per_sq_ft_info),len(total_price_info),len(construction_info),len(location_info),len(area_in_sqft_info),len(no_bhk_info),len(owner_info)"
      ],
      "execution_count": null,
      "outputs": [
        {
          "output_type": "execute_result",
          "data": {
            "text/plain": [
              "(1000, 1000, 1000, 1000, 1000, 1000, 1000)"
            ]
          },
          "metadata": {
            "tags": []
          },
          "execution_count": 8
        }
      ]
    },
    {
      "cell_type": "code",
      "metadata": {
        "id": "HPvOAsswayk8",
        "colab": {
          "base_uri": "https://localhost:8080/",
          "height": 417
        },
        "outputId": "d48f8459-6dc7-4df2-b3c8-825bfdc81ee0"
      },
      "source": [
        "#this step is used to convert all the above list into dataframe\n",
        "data=pd.DataFrame({'Owner_info':owner_info,'bhk_info':no_bhk_info,'area_info':area_in_sqft_info,'location_info':location_info,'cons_info':construction_info,'prince_in_cr_info':total_price_info,'price_sq_ft':price_per_sq_ft_info})\n",
        "data    #converting the list data into tabular format"
      ],
      "execution_count": null,
      "outputs": [
        {
          "output_type": "execute_result",
          "data": {
            "text/html": [
              "<div>\n",
              "<style scoped>\n",
              "    .dataframe tbody tr th:only-of-type {\n",
              "        vertical-align: middle;\n",
              "    }\n",
              "\n",
              "    .dataframe tbody tr th {\n",
              "        vertical-align: top;\n",
              "    }\n",
              "\n",
              "    .dataframe thead th {\n",
              "        text-align: right;\n",
              "    }\n",
              "</style>\n",
              "<table border=\"1\" class=\"dataframe\">\n",
              "  <thead>\n",
              "    <tr style=\"text-align: right;\">\n",
              "      <th></th>\n",
              "      <th>Owner_info</th>\n",
              "      <th>bhk_info</th>\n",
              "      <th>area_info</th>\n",
              "      <th>location_info</th>\n",
              "      <th>cons_info</th>\n",
              "      <th>prince_in_cr_info</th>\n",
              "      <th>price_sq_ft</th>\n",
              "    </tr>\n",
              "  </thead>\n",
              "  <tbody>\n",
              "    <tr>\n",
              "      <th>0</th>\n",
              "      <td>BUILDER</td>\n",
              "      <td>Residential Plot</td>\n",
              "      <td>2325</td>\n",
              "      <td>Koramangala</td>\n",
              "      <td>New</td>\n",
              "      <td>59.86 L</td>\n",
              "      <td>2,574 / sq ft</td>\n",
              "    </tr>\n",
              "    <tr>\n",
              "      <th>1</th>\n",
              "      <td>BUILDER</td>\n",
              "      <td>3</td>\n",
              "      <td>1405</td>\n",
              "      <td>Whitefield Hope Farm Junction</td>\n",
              "      <td>Ready to move</td>\n",
              "      <td>87.28 L</td>\n",
              "      <td>6,212 / sq ft</td>\n",
              "    </tr>\n",
              "    <tr>\n",
              "      <th>2</th>\n",
              "      <td>BUILDER</td>\n",
              "      <td>3</td>\n",
              "      <td>1562</td>\n",
              "      <td>Hosa Road</td>\n",
              "      <td>Under Construction</td>\n",
              "      <td>87.36 L</td>\n",
              "      <td>5,593 / sq ft</td>\n",
              "    </tr>\n",
              "    <tr>\n",
              "      <th>3</th>\n",
              "      <td>BUILDER</td>\n",
              "      <td>3</td>\n",
              "      <td>1200</td>\n",
              "      <td>Electronic City Phase 1</td>\n",
              "      <td>Under Construction</td>\n",
              "      <td>36 L</td>\n",
              "      <td>3,000 / sq ft</td>\n",
              "    </tr>\n",
              "    <tr>\n",
              "      <th>4</th>\n",
              "      <td>BUILDER</td>\n",
              "      <td>3</td>\n",
              "      <td>1437</td>\n",
              "      <td>Jalahalli</td>\n",
              "      <td>Under Construction</td>\n",
              "      <td>88.56 L</td>\n",
              "      <td>6,162 / sq ft</td>\n",
              "    </tr>\n",
              "    <tr>\n",
              "      <th>...</th>\n",
              "      <td>...</td>\n",
              "      <td>...</td>\n",
              "      <td>...</td>\n",
              "      <td>...</td>\n",
              "      <td>...</td>\n",
              "      <td>...</td>\n",
              "      <td>...</td>\n",
              "    </tr>\n",
              "    <tr>\n",
              "      <th>995</th>\n",
              "      <td>AGENT</td>\n",
              "      <td>2</td>\n",
              "      <td>1216</td>\n",
              "      <td>Anjanapura</td>\n",
              "      <td>Under Construction</td>\n",
              "      <td>57.76 L</td>\n",
              "      <td>4,750 / sq ft</td>\n",
              "    </tr>\n",
              "    <tr>\n",
              "      <th>996</th>\n",
              "      <td>AGENT</td>\n",
              "      <td>2</td>\n",
              "      <td>1216</td>\n",
              "      <td>Anjanapura</td>\n",
              "      <td>Under Construction</td>\n",
              "      <td>57.76 L</td>\n",
              "      <td>4,750 / sq ft</td>\n",
              "    </tr>\n",
              "    <tr>\n",
              "      <th>997</th>\n",
              "      <td>AGENT</td>\n",
              "      <td>2</td>\n",
              "      <td>1216</td>\n",
              "      <td>Anjanapura</td>\n",
              "      <td>Under Construction</td>\n",
              "      <td>57.76 L</td>\n",
              "      <td>4,750 / sq ft</td>\n",
              "    </tr>\n",
              "    <tr>\n",
              "      <th>998</th>\n",
              "      <td>AGENT</td>\n",
              "      <td>2</td>\n",
              "      <td>1216</td>\n",
              "      <td>Anjanapura</td>\n",
              "      <td>Under Construction</td>\n",
              "      <td>57.76 L</td>\n",
              "      <td>4,750 / sq ft</td>\n",
              "    </tr>\n",
              "    <tr>\n",
              "      <th>999</th>\n",
              "      <td>AGENT</td>\n",
              "      <td>2</td>\n",
              "      <td>1070</td>\n",
              "      <td>Hosakerehalli</td>\n",
              "      <td>Under Construction</td>\n",
              "      <td>57.77 L</td>\n",
              "      <td>5,399 / sq ft</td>\n",
              "    </tr>\n",
              "  </tbody>\n",
              "</table>\n",
              "<p>1000 rows × 7 columns</p>\n",
              "</div>"
            ],
            "text/plain": [
              "    Owner_info          bhk_info  ... prince_in_cr_info    price_sq_ft\n",
              "0      BUILDER  Residential Plot  ...           59.86 L  2,574 / sq ft\n",
              "1      BUILDER                 3  ...           87.28 L  6,212 / sq ft\n",
              "2      BUILDER                 3  ...           87.36 L  5,593 / sq ft\n",
              "3      BUILDER                 3  ...              36 L  3,000 / sq ft\n",
              "4      BUILDER                 3  ...           88.56 L  6,162 / sq ft\n",
              "..         ...               ...  ...               ...            ...\n",
              "995      AGENT                 2  ...           57.76 L  4,750 / sq ft\n",
              "996      AGENT                 2  ...           57.76 L  4,750 / sq ft\n",
              "997      AGENT                 2  ...           57.76 L  4,750 / sq ft\n",
              "998      AGENT                 2  ...           57.76 L  4,750 / sq ft\n",
              "999      AGENT                 2  ...           57.77 L  5,399 / sq ft\n",
              "\n",
              "[1000 rows x 7 columns]"
            ]
          },
          "metadata": {
            "tags": []
          },
          "execution_count": 10
        }
      ]
    },
    {
      "cell_type": "code",
      "metadata": {
        "id": "Kg1ko9G0cvPo"
      },
      "source": [
        "data.to_csv('makaan_apartment_list_in_bnglr.csv',index=False) #converting the data to csv file"
      ],
      "execution_count": null,
      "outputs": []
    }
  ]
}